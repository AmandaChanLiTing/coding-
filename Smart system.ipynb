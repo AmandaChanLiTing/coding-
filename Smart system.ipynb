{
 "cells": [
  {
   "cell_type": "code",
   "execution_count": 9,
   "id": "91bfc0a0",
   "metadata": {},
   "outputs": [
    {
     "name": "stdout",
     "output_type": "stream",
     "text": [
      "1. Record a student entering the campus\n",
      "2. Record a student leaving the campus\n",
      "3. Print all students currently on campus\n",
      "4. Add a student to the authorised list\n",
      "5. Print unauthorised entry attempts\n",
      "6. Exit\n",
      "Exiting system\n"
     ]
    }
   ],
   "source": [
    "def display_menu():\n",
    "    print(\"1. Record a student entering the campus\")\n",
    "    print(\"2. Record a student leaving the campus\")\n",
    "    print(\"3. Print all students currently on campus\")\n",
    "    print(\"4. Add a student to the authorised list\")\n",
    "    print(\"5. Print unauthorised entry attempts\")\n",
    "    print(\"6. Exit\")\n",
    "\n",
    "while True:\n",
    "    display_menu()\n",
    "    option = input(\"Enter option (1–6): \")\n",
    "\n",
    "    if option == \"1\":\n",
    "        pass\n",
    "\n",
    "    elif option == \"2\":\n",
    "        pass\n",
    "\n",
    "    elif option == \"3\":\n",
    "        pass\n",
    "\n",
    "    elif option == \"4\":     \n",
    "        pass\n",
    "\n",
    "    elif option == \"5\":\n",
    "        pass\n",
    "\n",
    "    else: \n",
    "        print(\"Exiting system\")\n",
    "        break"
   ]
  }
 ],
 "metadata": {
  "kernelspec": {
   "display_name": "Python 3",
   "language": "python",
   "name": "python3"
  },
  "language_info": {
   "codemirror_mode": {
    "name": "ipython",
    "version": 3
   },
   "file_extension": ".py",
   "mimetype": "text/x-python",
   "name": "python",
   "nbconvert_exporter": "python",
   "pygments_lexer": "ipython3",
   "version": "3.13.5"
  }
 },
 "nbformat": 4,
 "nbformat_minor": 5
}
